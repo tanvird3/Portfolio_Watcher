{
  "nbformat": 4,
  "nbformat_minor": 0,
  "metadata": {
    "colab": {
      "name": "current_position.ipynb",
      "provenance": [],
      "collapsed_sections": [],
      "toc_visible": true
    },
    "kernelspec": {
      "name": "python3",
      "display_name": "Python 3"
    }
  },
  "cells": [
    {
      "cell_type": "markdown",
      "metadata": {
        "id": "v7McXd3XCWji"
      },
      "source": [
        "# **This code extracts data from portfolio file (ideally in pdf format) and latest trading data from Dhaka Stock Exchange Website, then portrays the current position of the portfolio. The scenario is updated every 30 seconds for the sake of continuous monitoring. **\n",
        "\n"
      ]
    },
    {
      "cell_type": "code",
      "metadata": {
        "id": "DaTQXrua7rqS",
        "outputId": "40ef33fe-acfb-4f7d-dd31-13289dea3c03",
        "colab": {
          "base_uri": "https://localhost:8080/",
          "height": 752
        }
      },
      "source": [
        "# check if bdshare pypdf and tabula are installed if not install\n",
        "try:\n",
        "    from bdshare import get_current_trade_data\n",
        "except:\n",
        "    !pip install bdshare\n",
        "    from bdshare import get_current_trade_data\n",
        "\n",
        "try:\n",
        "    import tabula\n",
        "except:\n",
        "    !pip install tabula-py\n",
        "    import tabula\n",
        "\n",
        "# import required modules\n",
        "import pandas as pd\n",
        "import numpy as np\n",
        "\n",
        "# set the number format\n",
        "pd.options.display.float_format = '{:.2f}'.format\n",
        "\n",
        "# set pandas display width\n",
        "pd.set_option(\"display.max_rows\", 50)\n",
        "pd.set_option(\"display.max_columns\", 14)\n",
        "pd.set_option(\"display.width\", 1000)\n",
        "\n",
        "# get the data\n",
        "df_org = tabula.read_pdf(\"10.pdf\", multiple_tables=True, pages=\"all\")[0]\n",
        "port = df_org.iloc[1:-2, :]\n",
        "req_cols = [\"Company\", \"Total\", \"Average\", \"Total Cost\"]\n",
        "port = port[req_cols]\n",
        "port[\"Total Cost\"] = port[\"Total Cost\"].str.replace(\",\", \"\")\n",
        "cols = [\"Total\", \"Average\", \"Total Cost\"]\n",
        "port[cols] = port[cols].apply(pd.to_numeric, errors=\"coerce\")\n",
        "port.columns = [\"TRADING.CODE\", \"Total Quantity\", \"Average Cost\", \"Total Cost\"]\n",
        "\n",
        "# Get the instruments under portfolio\n",
        "instruments = port[\"TRADING.CODE\"]\n",
        "instruments = instruments.tolist()\n",
        "\n",
        "# function for extracting the data\n",
        "def dse_current(instruments):\n",
        "    df = []\n",
        "\n",
        "    for instruments in instruments:\n",
        "        stock_data = get_current_trade_data(instruments)\n",
        "        df.append(stock_data)\n",
        "\n",
        "    df = pd.concat(df)\n",
        "    df = df.sort_values(by=[\"symbol\"])\n",
        "    df = df[\n",
        "        [\"symbol\", \"ltp\", \"high\", \"low\", \"close\", \"ycp\", \"trade\", \"value\", \"volume\"]\n",
        "    ]\n",
        "    df = df.reset_index()\n",
        "    df = df.drop(columns=[\"index\"])\n",
        "    df.columns = [\n",
        "        \"TRADING.CODE\",\n",
        "        \"LTP\",\n",
        "        \"HIGH\",\n",
        "        \"LOW\",\n",
        "        \"CLOSEP\",\n",
        "        \"YCP\",\n",
        "        \"TRADE\",\n",
        "        \"VALUE\",\n",
        "        \"VOLUME\",\n",
        "    ]\n",
        "    cols = df.columns.drop([\"TRADING.CODE\"])\n",
        "    df[cols] = df[cols].apply(pd.to_numeric, errors=\"coerce\")\n",
        "\n",
        "    # merge the data with uploaded portfolio\n",
        "    df = pd.merge(port, df, on=\"TRADING.CODE\")\n",
        "\n",
        "    # get current gain/loss\n",
        "    if (df[\"CLOSEP\"].sum()==0):\n",
        "      df[\"Current_Val\"] = np.where(df[\"LTP\"] > 0, df[\"Total Quantity\"] * df[\"LTP\"], df[\"Total Quantity\"] * df[\"YCP\"])\n",
        "    else: \n",
        "      df[\"Current_Val\"] = df[\"Total Quantity\"] * df[\"CLOSEP\"] \n",
        "\n",
        "    df[\"Gain/Loss\"] = df[\"Current_Val\"] - df[\"Total Cost\"]\n",
        "\n",
        "    # generate the summary table\n",
        "    total_quan = df[\"Total Quantity\"].sum()\n",
        "    total_cost = df[\"Total Cost\"].sum()\n",
        "    mkt_val = df[\"Current_Val\"].sum()\n",
        "    gain = df[\"Gain/Loss\"].sum()\n",
        "    summary = [total_quan, total_cost, mkt_val, gain]\n",
        "    summary_tab = pd.DataFrame(np.array(summary).reshape(1, 4), columns = [\"Total Shares\", \"Total Cost\", \"Total Market Value\", \"Total Gain/Loss\"])\n",
        "\n",
        "    return (df, summary_tab)"
      ],
      "execution_count": 1,
      "outputs": [
        {
          "output_type": "stream",
          "text": [
            "Collecting bdshare\n",
            "  Downloading https://files.pythonhosted.org/packages/d6/c8/35ab18eae23f97ef927909962e4f9b047eb4ad99412bf41618390495035f/bdshare-0.1.4-py3-none-any.whl\n",
            "Requirement already satisfied: pandas in /usr/local/lib/python3.6/dist-packages (from bdshare) (1.0.5)\n",
            "Requirement already satisfied: requests in /usr/local/lib/python3.6/dist-packages (from bdshare) (2.23.0)\n",
            "Requirement already satisfied: html5lib in /usr/local/lib/python3.6/dist-packages (from bdshare) (1.0.1)\n",
            "Requirement already satisfied: beautifulsoup4 in /usr/local/lib/python3.6/dist-packages (from bdshare) (4.6.3)\n",
            "Requirement already satisfied: numpy>=1.13.3 in /usr/local/lib/python3.6/dist-packages (from pandas->bdshare) (1.18.5)\n",
            "Requirement already satisfied: python-dateutil>=2.6.1 in /usr/local/lib/python3.6/dist-packages (from pandas->bdshare) (2.8.1)\n",
            "Requirement already satisfied: pytz>=2017.2 in /usr/local/lib/python3.6/dist-packages (from pandas->bdshare) (2018.9)\n",
            "Requirement already satisfied: chardet<4,>=3.0.2 in /usr/local/lib/python3.6/dist-packages (from requests->bdshare) (3.0.4)\n",
            "Requirement already satisfied: idna<3,>=2.5 in /usr/local/lib/python3.6/dist-packages (from requests->bdshare) (2.10)\n",
            "Requirement already satisfied: certifi>=2017.4.17 in /usr/local/lib/python3.6/dist-packages (from requests->bdshare) (2020.6.20)\n",
            "Requirement already satisfied: urllib3!=1.25.0,!=1.25.1,<1.26,>=1.21.1 in /usr/local/lib/python3.6/dist-packages (from requests->bdshare) (1.24.3)\n",
            "Requirement already satisfied: six>=1.9 in /usr/local/lib/python3.6/dist-packages (from html5lib->bdshare) (1.15.0)\n",
            "Requirement already satisfied: webencodings in /usr/local/lib/python3.6/dist-packages (from html5lib->bdshare) (0.5.1)\n",
            "Installing collected packages: bdshare\n",
            "Successfully installed bdshare-0.1.4\n",
            "Collecting tabula-py\n",
            "\u001b[?25l  Downloading https://files.pythonhosted.org/packages/cf/29/d6cb0d77ef46d84d35cffa09cf42c73b373aea664d28604eab6818f8a47c/tabula_py-2.2.0-py3-none-any.whl (11.7MB)\n",
            "\u001b[K     |████████████████████████████████| 11.7MB 284kB/s \n",
            "\u001b[?25hCollecting distro\n",
            "  Downloading https://files.pythonhosted.org/packages/25/b7/b3c4270a11414cb22c6352ebc7a83aaa3712043be29daa05018fd5a5c956/distro-1.5.0-py2.py3-none-any.whl\n",
            "Requirement already satisfied: pandas>=0.25.3 in /usr/local/lib/python3.6/dist-packages (from tabula-py) (1.0.5)\n",
            "Requirement already satisfied: numpy in /usr/local/lib/python3.6/dist-packages (from tabula-py) (1.18.5)\n",
            "Requirement already satisfied: pytz>=2017.2 in /usr/local/lib/python3.6/dist-packages (from pandas>=0.25.3->tabula-py) (2018.9)\n",
            "Requirement already satisfied: python-dateutil>=2.6.1 in /usr/local/lib/python3.6/dist-packages (from pandas>=0.25.3->tabula-py) (2.8.1)\n",
            "Requirement already satisfied: six>=1.5 in /usr/local/lib/python3.6/dist-packages (from python-dateutil>=2.6.1->pandas>=0.25.3->tabula-py) (1.15.0)\n",
            "Installing collected packages: distro, tabula-py\n",
            "Successfully installed distro-1.5.0 tabula-py-2.2.0\n"
          ],
          "name": "stdout"
        },
        {
          "output_type": "stream",
          "text": [
            "Got stderr: Sep 27, 2020 3:02:03 PM org.apache.pdfbox.pdmodel.font.FileSystemFontProvider loadDiskCache\n",
            "WARNING: New fonts found, font cache will be re-built\n",
            "Sep 27, 2020 3:02:03 PM org.apache.pdfbox.pdmodel.font.FileSystemFontProvider <init>\n",
            "WARNING: Building on-disk font cache, this may take a while\n",
            "Sep 27, 2020 3:02:03 PM org.apache.pdfbox.pdmodel.font.FileSystemFontProvider <init>\n",
            "WARNING: Finished building on-disk font cache, found 17 fonts\n",
            "Sep 27, 2020 3:02:03 PM org.apache.pdfbox.pdmodel.font.PDType1Font <init>\n",
            "WARNING: Using fallback font LiberationSans for base font Symbol\n",
            "Sep 27, 2020 3:02:03 PM org.apache.pdfbox.pdmodel.font.PDType1Font <init>\n",
            "WARNING: Using fallback font LiberationSans for base font ZapfDingbats\n",
            "\n"
          ],
          "name": "stderr"
        }
      ]
    },
    {
      "cell_type": "code",
      "metadata": {
        "id": "lC_BC56699TG"
      },
      "source": [
        "# repeat the function after the given interval\n",
        "from datetime import datetime\n",
        "import time\n",
        "from IPython.display import clear_output\n",
        "from pytz import timezone\n",
        "\n",
        "bd = timezone(\"Asia/Dhaka\")\n",
        "\n",
        "def periodic_position(interval):\n",
        "    while True:\n",
        "        current_pos = dse_current(instruments)[0]\n",
        "        summary_tab = dse_current(instruments)[1]\n",
        "        clear_output(wait=True)\n",
        "        print(\"As of:\")\n",
        "        print(datetime.now(bd).strftime(\"%H:%M:%S.%f - %b %d %Y\"))\n",
        "        print(\"---\")\n",
        "        print(current_pos)\n",
        "        print(\"---\")\n",
        "        #print(\"Current Total Gain/Loss is: {:2f}\".format(gain))\n",
        "        print(summary_tab)\n",
        "        time.sleep(interval)"
      ],
      "execution_count": 2,
      "outputs": []
    },
    {
      "cell_type": "code",
      "metadata": {
        "id": "XmNJW8zi-DBS",
        "outputId": "71b4b958-9933-48f8-9289-f6c8ad29841f",
        "colab": {
          "base_uri": "https://localhost:8080/",
          "height": 359
        }
      },
      "source": [
        "# now keep running the loop\n",
        "periodic_position(30)"
      ],
      "execution_count": null,
      "outputs": [
        {
          "output_type": "stream",
          "text": [
            "As of:\n",
            "21:03:30.554859 - Sep 27 2020\n",
            "---\n",
            "   TRADING.CODE  Total Quantity  Average Cost  Total Cost    LTP   HIGH    LOW  CLOSEP    YCP  TRADE  VALUE   VOLUME  Current_Val   Gain/Loss\n",
            "0      BANKASIA          800405         18.60 14889729.66  18.20  18.20  17.50   17.90  17.50    106   2.94   166349  14327249.50  -562480.16\n",
            "1      CITYBANK           98424         22.11  2176313.03  24.80  24.90  24.00   24.50  24.40    778  63.86  2609440   2411388.00   235074.97\n",
            "2           DBH           25000         94.29  2357227.50  93.30  93.60  92.60   93.00  92.70   1309  98.63  1061674   2325000.00   -32227.50\n",
            "3           EBL          191080         36.82  7034935.88  36.00  36.70  36.00   36.10  36.60     47   1.21    33424   6897988.00  -136947.88\n",
            "4    JAMUNABANK         3017266         17.98 54247333.93  17.50  17.70  17.40   17.60  17.50    198  14.86   846757  53103881.60 -1143452.33\n",
            "5    MERCANBANK         2542642         12.94 32909199.86  12.50  12.60  12.30   12.50  12.30    286  25.70  2067220  31783025.00 -1126174.86\n",
            "6       NCCBANK         4413769         13.96 61627468.32  13.50  13.70  13.40   13.50  13.50    149   6.33   469372  59585881.50 -2041586.82\n",
            "7    ONEBANKLTD          844000         11.33  9564786.00  10.70  10.90  10.60   10.70  10.70    207  10.10   937386   9030800.00  -533986.00\n",
            "8    PUBALIBANK          177093         24.01  4251469.99  24.10  24.10  23.70   24.00  24.00     35   1.27    52841   4250232.00    -1237.99\n",
            "9    SOUTHEASTB          200000         13.70  2740655.10  12.80  13.10  12.70   12.80  12.80    277   8.52   664088   2560000.00  -180655.10\n",
            "10   SQURPHARMA           23000        215.16  4948720.50 206.20 207.80 205.20  206.00 206.10   1265  85.98   417463   4738000.00  -210720.50\n",
            "---\n",
            "   Total Shares   Total Cost  Total Market Value  Total Gain/Loss\n",
            "0   12332679.00 196747839.77        191013445.60      -5734394.17\n"
          ],
          "name": "stdout"
        }
      ]
    }
  ]
}