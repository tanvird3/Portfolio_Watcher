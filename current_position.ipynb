{
  "nbformat": 4,
  "nbformat_minor": 0,
  "metadata": {
    "colab": {
      "name": "TK_current_position.ipynb",
      "provenance": [],
      "collapsed_sections": []
    },
    "kernelspec": {
      "name": "python3",
      "display_name": "Python 3"
    }
  },
  "cells": [
    {
      "cell_type": "markdown",
      "metadata": {
        "id": "v7McXd3XCWji"
      },
      "source": [
        "# **This code extracts data from portfolio file (either in .pdf or .xlsx  format) and latest trading data from Dhaka Stock Exchange Website, then portrays the current position of the portfolio. The scenario is updated every 30 seconds for the sake of continuous monitoring. **\n",
        "\n",
        "\n",
        "\n"
      ]
    },
    {
      "cell_type": "markdown",
      "metadata": {
        "id": "u0L8Bh9uMOzm"
      },
      "source": [
        "**Disclaimer**\n",
        "\n",
        "    1. You need to upload the portfolio file from the \"Files\" section. The accepted format is either .pdf or .xlsx. \n",
        "    2. The broker provided .pdf file might not suit the code, in that case you may provide the portfolio data in .xlsx format. Please ensure that the .xlsx file has TRADING.CODE, Total Quantity, Average Cost and Total Cost in the first four columns. \n",
        "    3. The gain/loss is calculated considering Latest Trading Price during the trading hours and Closing Price after trading hours.\n"
      ]
    },
    {
      "cell_type": "code",
      "metadata": {
        "id": "DaTQXrua7rqS"
      },
      "source": [
        "# take care of the warnings\n",
        "import warnings\n",
        "warnings.filterwarnings(\"ignore\")\n",
        "warnings.simplefilter('ignore')\n",
        "\n",
        "# check if bdshare pypdf and tabula are installed if not install\n",
        "try:\n",
        "    from bdshare import get_current_trade_data\n",
        "except:\n",
        "    !pip install bdshare\n",
        "    from bdshare import get_current_trade_data\n",
        "\n",
        "try:\n",
        "    import tabula\n",
        "except:\n",
        "    !pip install tabula-py\n",
        "    import tabula\n",
        "\n",
        "# import required modules\n",
        "import pandas as pd\n",
        "import numpy as np\n",
        "\n",
        "# set the number format\n",
        "pd.options.display.float_format = \"{:.2f}\".format\n",
        "\n",
        "# set pandas display width\n",
        "pd.set_option(\"display.max_rows\", 50)\n",
        "pd.set_option(\"display.max_columns\", 14)\n",
        "pd.set_option(\"display.width\", 1000)\n",
        "\n",
        "# function for extracting the data\n",
        "def dse_current(filename):\n",
        "\n",
        "    # get the portfolio data\n",
        "    if \".pdf\" in filename:\n",
        "        df_org = tabula.read_pdf(filename, multiple_tables=True, pages=\"all\")[0]\n",
        "        port = df_org.iloc[1:-2, :]\n",
        "        req_cols = [\"Company\", \"Total\", \"Average\", \"Total Cost\"]\n",
        "        port = port[req_cols]\n",
        "        port[\"Total Cost\"] = port[\"Total Cost\"].str.replace(\",\", \"\")\n",
        "        cols = [\"Total\", \"Average\", \"Total Cost\"]\n",
        "        port[cols] = port[cols].apply(pd.to_numeric, errors=\"coerce\")\n",
        "        port.columns = [\"TRADING.CODE\", \"Total Quantity\", \"Average Cost\", \"Total Cost\"]\n",
        "\n",
        "    elif \".xlsx\" in filename:\n",
        "        port = pd.read_excel(filename)\n",
        "        port.columns = [\"TRADING.CODE\", \"Total Quantity\", \"Average Cost\", \"Total Cost\"]\n",
        "\n",
        "    # Get the instruments under portfolio\n",
        "    instruments = port[\"TRADING.CODE\"]\n",
        "    instruments = instruments.tolist()\n",
        "\n",
        "    # create the blank dataframe for merging all instruments' data\n",
        "    df = []\n",
        "\n",
        "    # extracts all instruments data\n",
        "    for instruments in instruments:\n",
        "        stock_data = get_current_trade_data(instruments)\n",
        "        df.append(stock_data)\n",
        "\n",
        "    df = pd.concat(df)\n",
        "    df = df.sort_values(by=[\"symbol\"])\n",
        "    df = df[\n",
        "        [\"symbol\", \"ltp\", \"high\", \"low\", \"close\", \"ycp\", \"trade\", \"value\", \"volume\"]\n",
        "    ]\n",
        "    df = df.reset_index()\n",
        "    df = df.drop(columns=[\"index\"])\n",
        "    df.columns = [\n",
        "        \"TRADING.CODE\",\n",
        "        \"LTP\",\n",
        "        \"HIGH\",\n",
        "        \"LOW\",\n",
        "        \"CLOSEP\",\n",
        "        \"YCP\",\n",
        "        \"TRADE\",\n",
        "        \"VALUE\",\n",
        "        \"VOLUME\",\n",
        "    ]\n",
        "    cols = df.columns.drop([\"TRADING.CODE\"])\n",
        "    df[cols] = df[cols].apply(pd.to_numeric, errors=\"coerce\")\n",
        "\n",
        "    # merge the data with uploaded portfolio\n",
        "    df = pd.merge(port, df, on=\"TRADING.CODE\")\n",
        "\n",
        "    # get current gain/loss\n",
        "    if df[\"CLOSEP\"].sum() == 0:\n",
        "        df[\"Current_Val\"] = np.where(\n",
        "            df[\"LTP\"] > 0,\n",
        "            df[\"Total Quantity\"] * df[\"LTP\"],\n",
        "            df[\"Total Quantity\"] * df[\"YCP\"],\n",
        "        )\n",
        "    else:\n",
        "        df[\"Current_Val\"] = df[\"Total Quantity\"] * df[\"CLOSEP\"]\n",
        "\n",
        "    df[\"Gain/Loss\"] = df[\"Current_Val\"] - df[\"Total Cost\"]\n",
        "\n",
        "    # generate the summary table\n",
        "    total_quan = df[\"Total Quantity\"].sum()\n",
        "    total_cost = df[\"Total Cost\"].sum()\n",
        "    mkt_val = df[\"Current_Val\"].sum()\n",
        "    gain = df[\"Gain/Loss\"].sum()\n",
        "    summary = [total_quan, total_cost, mkt_val, gain]\n",
        "    summary_tab = pd.DataFrame(\n",
        "        np.array(summary).reshape(1, 4),\n",
        "        columns=[\"Total Shares\", \"Total Cost\", \"Total Market Value\", \"Total Gain/Loss\"],\n",
        "    )\n",
        "\n",
        "    return (df, summary_tab)\n",
        "\n",
        "# Set the time format\n",
        "from datetime import datetime\n",
        "import time\n",
        "from IPython.display import clear_output\n",
        "from pytz import timezone\n",
        "\n",
        "bd = timezone(\"Asia/Dhaka\")\n",
        "\n",
        "# function for repeating the previous function after certain interval\n",
        "def periodic_position(interval, filename):\n",
        "    while True:\n",
        "        current_pos = dse_current(filename)[0]\n",
        "        summary_tab = dse_current(filename)[1]\n",
        "        clear_output(wait=True)\n",
        "        print(\"As of:\")\n",
        "        print(datetime.now(bd).strftime(\"%H:%M:%S.%f - %b %d %Y\"))\n",
        "        print(\"---\")\n",
        "        print(current_pos)\n",
        "        print(\"---\")\n",
        "        # print(\"Current Total Gain/Loss is: {:2f}\".format(gain))\n",
        "        print(summary_tab)\n",
        "        print(\"---\")\n",
        "        time.sleep(interval)"
      ],
      "execution_count": null,
      "outputs": []
    },
    {
      "cell_type": "code",
      "metadata": {
        "id": "XmNJW8zi-DBS",
        "outputId": "ba49dcf0-717c-4a22-a37b-3bbf0a4af1b1",
        "colab": {
          "base_uri": "https://localhost:8080/",
          "height": 425
        }
      },
      "source": [
        "# now keep producing the current status of the portfolio\n",
        "periodic_position(30, \"P 14-10-2020.pdf\")"
      ],
      "execution_count": null,
      "outputs": [
        {
          "output_type": "stream",
          "text": [
            "As of:\n",
            "14:52:46.453966 - Oct 15 2020\n",
            "---\n",
            "  TRADING.CODE  Total Quantity  Average Cost  Total Cost    LTP   HIGH    LOW  CLOSEP    YCP  TRADE  VALUE  VOLUME  Current_Val   Gain/Loss\n",
            "0     BANKASIA          800405         18.60 14889729.66  18.60  18.60  18.30   18.50  18.40     31   1.21   65521  14807492.50   -82237.16\n",
            "1          DBH           25000         94.29  2357227.50  92.60  92.60  92.60   92.60  92.60     36   0.37    4027   2315000.00   -42227.50\n",
            "2          EBL          191080         36.82  7034935.88  36.40  36.40  35.00   35.50  36.20     23   0.19    5448   6783340.00  -251595.88\n",
            "3   JAMUNABANK         3017266         17.98 54247333.93  17.70  17.80  17.50   17.60  17.80     88   2.78  157734  53103881.60 -1143452.33\n",
            "4   MERCANBANK         2542642         12.94 32909199.86  12.40  12.60  12.30   12.40  12.40     97   3.72  298949  31528760.80 -1380439.06\n",
            "5      NCCBANK         4413769         13.96 61627468.32  13.50  13.60  13.30   13.50  13.30    140   5.84  434198  59585881.50 -2041586.82\n",
            "6   ONEBANKLTD          844000         11.33  9564786.00  10.60  10.70  10.50   10.50  10.60    106   3.33  316055   8862000.00  -702786.00\n",
            "7   PUBALIBANK          177093         24.01  4251469.99  24.60  24.60  24.20   24.60  24.50     63   2.59  105468   4356487.80   105017.81\n",
            "8   SOUTHEASTB          200000         13.70  2740655.10  12.40  12.40  12.20   12.40  12.30    174   6.86  556029   2480000.00  -260655.10\n",
            "9   SQURPHARMA           33000        211.81  6989875.50 204.90 206.50 203.90  204.90 206.00   1465  83.21  405447   6761700.00  -228175.50\n",
            "---\n",
            "   Total Shares   Total Cost  Total Market Value  Total Gain/Loss\n",
            "0   12244255.00 196612681.74        190584544.20      -6028137.54\n",
            "---\n"
          ],
          "name": "stdout"
        },
        {
          "output_type": "stream",
          "text": [
            "Got stderr: Oct 15, 2020 8:53:17 AM org.apache.pdfbox.pdmodel.font.PDType1Font <init>\n",
            "WARNING: Using fallback font LiberationSans for base font Symbol\n",
            "Oct 15, 2020 8:53:17 AM org.apache.pdfbox.pdmodel.font.PDType1Font <init>\n",
            "WARNING: Using fallback font LiberationSans for base font ZapfDingbats\n",
            "\n"
          ],
          "name": "stderr"
        }
      ]
    }
  ]
}