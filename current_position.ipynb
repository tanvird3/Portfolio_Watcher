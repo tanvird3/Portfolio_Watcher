{
  "nbformat": 4,
  "nbformat_minor": 0,
  "metadata": {
    "colab": {
      "name": "TK_current_position.ipynb",
      "provenance": [],
      "collapsed_sections": []
    },
    "kernelspec": {
      "name": "python3",
      "display_name": "Python 3"
    }
  },
  "cells": [
    {
      "cell_type": "markdown",
      "metadata": {
        "id": "v7McXd3XCWji"
      },
      "source": [
        "# **This code extracts data from portfolio file (ideally in pdf format) and latest trading data from Dhaka Stock Exchange Website, then portrays the current position of the portfolio. The scenario is updated every 30 seconds for the sake of continuous monitoring. **\n",
        "\n",
        "\n",
        "\n"
      ]
    },
    {
      "cell_type": "markdown",
      "metadata": {
        "id": "u0L8Bh9uMOzm"
      },
      "source": [
        "Disclaimer\n",
        "\n",
        "    1. You need to upload the portfolio pdf file from the \"Files\" section. The preferred name is \"10.pdf\", if your file has a different name, rename it or make a change in the code. \n",
        "    2. The broker provided pdf file might not suit the code, in that case you may provide the initial data in .xlsx file, that would require minor change in the code obviously. \n",
        "    3. The gain/loss is calculated considering Latest Trading Price during the trading hours and Closing Price after trading hours.\n"
      ]
    },
    {
      "cell_type": "code",
      "metadata": {
        "id": "DaTQXrua7rqS",
        "outputId": "c5ad1c30-aef8-4854-99cd-027e8870d087",
        "colab": {
          "base_uri": "https://localhost:8080/",
          "height": 105
        }
      },
      "source": [
        "# check if bdshare pypdf and tabula are installed if not install\n",
        "try:\n",
        "    from bdshare import get_current_trade_data\n",
        "except:\n",
        "    !pip install bdshare\n",
        "    from bdshare import get_current_trade_data\n",
        " \n",
        "try:\n",
        "    import tabula\n",
        "except:\n",
        "    !pip install tabula-py\n",
        "    import tabula\n",
        " \n",
        "# import required modules\n",
        "import pandas as pd\n",
        "import numpy as np\n",
        " \n",
        "# set the number format\n",
        "pd.options.display.float_format = '{:.2f}'.format\n",
        " \n",
        "# set pandas display width\n",
        "pd.set_option(\"display.max_rows\", 50)\n",
        "pd.set_option(\"display.max_columns\", 14)\n",
        "pd.set_option(\"display.width\", 1000)\n",
        " \n",
        "# get the data\n",
        "df_org = tabula.read_pdf(\"10.pdf\", multiple_tables=True, pages=\"all\")[0]\n",
        "port = df_org.iloc[1:-2, :]\n",
        "req_cols = [\"Company\", \"Total\", \"Average\", \"Total Cost\"]\n",
        "port = port[req_cols]\n",
        "port[\"Total Cost\"] = port[\"Total Cost\"].str.replace(\",\", \"\")\n",
        "cols = [\"Total\", \"Average\", \"Total Cost\"]\n",
        "port[cols] = port[cols].apply(pd.to_numeric, errors=\"coerce\")\n",
        "port.columns = [\"TRADING.CODE\", \"Total Quantity\", \"Average Cost\", \"Total Cost\"]\n",
        " \n",
        "# Get the instruments under portfolio\n",
        "instruments = port[\"TRADING.CODE\"]\n",
        "instruments = instruments.tolist()\n",
        " \n",
        "# function for extracting the data\n",
        "def dse_current(instruments):\n",
        "    df = []\n",
        " \n",
        "    for instruments in instruments:\n",
        "        stock_data = get_current_trade_data(instruments)\n",
        "        df.append(stock_data)\n",
        " \n",
        "    df = pd.concat(df)\n",
        "    df = df.sort_values(by=[\"symbol\"])\n",
        "    df = df[\n",
        "        [\"symbol\", \"ltp\", \"high\", \"low\", \"close\", \"ycp\", \"trade\", \"value\", \"volume\"]\n",
        "    ]\n",
        "    df = df.reset_index()\n",
        "    df = df.drop(columns=[\"index\"])\n",
        "    df.columns = [\n",
        "        \"TRADING.CODE\",\n",
        "        \"LTP\",\n",
        "        \"HIGH\",\n",
        "        \"LOW\",\n",
        "        \"CLOSEP\",\n",
        "        \"YCP\",\n",
        "        \"TRADE\",\n",
        "        \"VALUE\",\n",
        "        \"VOLUME\",\n",
        "    ]\n",
        "    cols = df.columns.drop([\"TRADING.CODE\"])\n",
        "    df[cols] = df[cols].apply(pd.to_numeric, errors=\"coerce\")\n",
        " \n",
        "    # merge the data with uploaded portfolio\n",
        "    df = pd.merge(port, df, on=\"TRADING.CODE\")\n",
        " \n",
        "    # get current gain/loss\n",
        "    if (df[\"CLOSEP\"].sum()==0):\n",
        "      df[\"Current_Val\"] = np.where(df[\"LTP\"] > 0, df[\"Total Quantity\"] * df[\"LTP\"], df[\"Total Quantity\"] * df[\"YCP\"])\n",
        "    else: \n",
        "      df[\"Current_Val\"] = df[\"Total Quantity\"] * df[\"CLOSEP\"] \n",
        " \n",
        "    df[\"Gain/Loss\"] = df[\"Current_Val\"] - df[\"Total Cost\"]\n",
        " \n",
        "    # generate the summary table\n",
        "    total_quan = df[\"Total Quantity\"].sum()\n",
        "    total_cost = df[\"Total Cost\"].sum()\n",
        "    mkt_val = df[\"Current_Val\"].sum()\n",
        "    gain = df[\"Gain/Loss\"].sum()\n",
        "    summary = [total_quan, total_cost, mkt_val, gain]\n",
        "    summary_tab = pd.DataFrame(np.array(summary).reshape(1, 4), columns = [\"Total Shares\", \"Total Cost\", \"Total Market Value\", \"Total Gain/Loss\"])\n",
        " \n",
        "    return (df, summary_tab)"
      ],
      "execution_count": null,
      "outputs": [
        {
          "output_type": "stream",
          "text": [
            "Got stderr: Sep 30, 2020 8:47:41 AM org.apache.pdfbox.pdmodel.font.PDType1Font <init>\n",
            "WARNING: Using fallback font LiberationSans for base font Symbol\n",
            "Sep 30, 2020 8:47:41 AM org.apache.pdfbox.pdmodel.font.PDType1Font <init>\n",
            "WARNING: Using fallback font LiberationSans for base font ZapfDingbats\n",
            "\n"
          ],
          "name": "stderr"
        }
      ]
    },
    {
      "cell_type": "code",
      "metadata": {
        "id": "lC_BC56699TG"
      },
      "source": [
        "# repeat the function after the given interval\n",
        "from datetime import datetime\n",
        "import time\n",
        "from IPython.display import clear_output\n",
        "from pytz import timezone\n",
        "\n",
        "bd = timezone(\"Asia/Dhaka\")\n",
        "\n",
        "def periodic_position(interval):\n",
        "    while True:\n",
        "        current_pos = dse_current(instruments)[0]\n",
        "        summary_tab = dse_current(instruments)[1]\n",
        "        clear_output(wait=True)\n",
        "        print(\"As of:\")\n",
        "        print(datetime.now(bd).strftime(\"%H:%M:%S.%f - %b %d %Y\"))\n",
        "        print(\"---\")\n",
        "        print(current_pos)\n",
        "        print(\"---\")\n",
        "        #print(\"Current Total Gain/Loss is: {:2f}\".format(gain))\n",
        "        print(summary_tab)\n",
        "        time.sleep(interval)"
      ],
      "execution_count": null,
      "outputs": []
    },
    {
      "cell_type": "code",
      "metadata": {
        "id": "XmNJW8zi-DBS",
        "outputId": "c77e0f5a-ce7d-402b-f7bb-3219aeb629ad",
        "colab": {
          "base_uri": "https://localhost:8080/",
          "height": 318
        }
      },
      "source": [
        "# now keep running the loop\n",
        "periodic_position(30)"
      ],
      "execution_count": null,
      "outputs": [
        {
          "output_type": "stream",
          "text": [
            "As of:\n",
            "15:22:19.545299 - Sep 30 2020\n",
            "---\n",
            "  TRADING.CODE  Total Quantity  Average Cost  Total Cost    LTP   HIGH    LOW  CLOSEP    YCP  TRADE  VALUE   VOLUME  Current_Val   Gain/Loss\n",
            "0     BANKASIA          800405         18.60 14889729.66  18.50  18.50  18.20   18.40  18.30    170   9.23   504326  14727452.00  -162277.66\n",
            "1          DBH           25000         94.29  2357227.50  92.60  93.00  92.60   92.60  92.60    692  77.48   836411   2315000.00   -42227.50\n",
            "2          EBL          191080         36.82  7034935.88  36.50  36.50  35.90   36.20  35.90    120   5.39   149263   6917096.00  -117839.88\n",
            "3   JAMUNABANK         3017266         17.98 54247333.93  17.50  17.90  17.40   17.50  17.60    138  12.43   711166  52802155.00 -1445178.93\n",
            "4   MERCANBANK         2542642         12.94 32909199.86  12.50  12.70  12.40   12.50  12.60    281  14.05  1119658  31783025.00 -1126174.86\n",
            "5      NCCBANK         4413769         13.96 61627468.32  13.50  13.70  13.30   13.40  13.50    149   6.08   453293  59144504.60 -2482963.72\n",
            "6   ONEBANKLTD          844000         11.33  9564786.00  10.90  11.00  10.80   10.90  10.90    185  10.78   989522   9199600.00  -365186.00\n",
            "7   PUBALIBANK          177093         24.01  4251469.99  24.40  24.40  23.80   24.10  24.30     84   2.65   110557   4267941.30    16471.31\n",
            "8   SOUTHEASTB          200000         13.70  2740655.10  13.00  13.10  12.90   13.00  13.00    270  15.64  1203545   2600000.00  -140655.10\n",
            "9   SQURPHARMA           23000        215.16  4948720.50 203.90 205.70 203.60  204.00 206.10   1747 114.29   558874   4692000.00  -256720.50\n",
            "---\n",
            "   Total Shares   Total Cost  Total Market Value  Total Gain/Loss\n",
            "0   12234255.00 194571526.74        188448773.90      -6122752.84\n"
          ],
          "name": "stdout"
        }
      ]
    }
  ]
}