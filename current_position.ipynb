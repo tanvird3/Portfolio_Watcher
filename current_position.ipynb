{
  "nbformat": 4,
  "nbformat_minor": 0,
  "metadata": {
    "colab": {
      "name": "current_position.ipynb",
      "provenance": [],
      "collapsed_sections": [],
      "toc_visible": true
    },
    "kernelspec": {
      "name": "python3",
      "display_name": "Python 3"
    }
  },
  "cells": [
    {
      "cell_type": "markdown",
      "metadata": {
        "id": "v7McXd3XCWji"
      },
      "source": [
        "# **This code extracts data from portfolio file (ideally in pdf format) and latest trading data from Dhaka Stock Exchange Website, then portrays the current position of the portfolio. The scenario is updated every 30 seconds for the sake of continuous monitoring. **\n",
        "\n"
      ]
    },
    {
      "cell_type": "code",
      "metadata": {
        "id": "DaTQXrua7rqS",
        "outputId": "bdbd9756-f9ff-4189-d4bb-e410177488ef",
        "colab": {
          "base_uri": "https://localhost:8080/",
          "height": 106
        }
      },
      "source": [
        "# check if bdshare pypdf and tabula are installed if not install\n",
        "try:\n",
        "    from bdshare import get_current_trade_data\n",
        "except:\n",
        "    !pip install bdshare\n",
        "    from bdshare import get_current_trade_data\n",
        "\n",
        "try:\n",
        "    import tabula\n",
        "except:\n",
        "    !pip install tabula-py\n",
        "    import tabula\n",
        "\n",
        "# import required modules\n",
        "import pandas as pd\n",
        "import numpy as np\n",
        "\n",
        "# set the number format\n",
        "pd.options.display.float_format = '{:.2f}'.format\n",
        "\n",
        "# set pandas display width\n",
        "pd.set_option(\"display.max_rows\", 50)\n",
        "pd.set_option(\"display.max_columns\", 14)\n",
        "pd.set_option(\"display.width\", 1000)\n",
        "\n",
        "# get the data\n",
        "df_org = tabula.read_pdf(\"10.pdf\", multiple_tables=True, pages=\"all\")[0]\n",
        "port = df_org.iloc[1:-2, :]\n",
        "req_cols = [\"Company\", \"Total\", \"Average\", \"Total Cost\"]\n",
        "port = port[req_cols]\n",
        "port[\"Total Cost\"] = port[\"Total Cost\"].str.replace(\",\", \"\")\n",
        "cols = [\"Total\", \"Average\", \"Total Cost\"]\n",
        "port[cols] = port[cols].apply(pd.to_numeric, errors=\"coerce\")\n",
        "port.columns = [\"TRADING.CODE\", \"Total Quantity\", \"Average Cost\", \"Total Cost\"]\n",
        "\n",
        "# Get the instruments under portfolio\n",
        "instruments = port[\"TRADING.CODE\"]\n",
        "instruments = instruments.tolist()\n",
        "\n",
        "# function for extracting the data\n",
        "def dse_current(instruments):\n",
        "    df = []\n",
        "\n",
        "    for instruments in instruments:\n",
        "        stock_data = get_current_trade_data(instruments)\n",
        "        df.append(stock_data)\n",
        "\n",
        "    df = pd.concat(df)\n",
        "    df = df.sort_values(by=[\"symbol\"])\n",
        "    df = df[\n",
        "        [\"symbol\", \"ltp\", \"high\", \"low\", \"close\", \"ycp\", \"trade\", \"value\", \"volume\"]\n",
        "    ]\n",
        "    df = df.reset_index()\n",
        "    df = df.drop(columns=[\"index\"])\n",
        "    df.columns = [\n",
        "        \"TRADING.CODE\",\n",
        "        \"LTP\",\n",
        "        \"HIGH\",\n",
        "        \"LOW\",\n",
        "        \"CLOSEP\",\n",
        "        \"YCP\",\n",
        "        \"TRADE\",\n",
        "        \"VALUE\",\n",
        "        \"VOLUME\",\n",
        "    ]\n",
        "    cols = df.columns.drop([\"TRADING.CODE\"])\n",
        "    df[cols] = df[cols].apply(pd.to_numeric, errors=\"coerce\")\n",
        "\n",
        "    # merge the data with uploaded portfolio\n",
        "    df = pd.merge(port, df, on=\"TRADING.CODE\")\n",
        "\n",
        "    # get current gain/loss\n",
        "    if (df[\"CLOSEP\"].sum()==0):\n",
        "      df[\"Current_Val\"] = np.where(df[\"LTP\"] > 0, df[\"Total Quantity\"] * df[\"LTP\"], df[\"Total Quantity\"] * df[\"YCP\"])\n",
        "    else: \n",
        "      df[\"Current_Val\"] = df[\"Total Quantity\"] * df[\"CLOSEP\"] \n",
        "\n",
        "    df[\"Gain/Loss\"] = df[\"Current_Val\"] - df[\"Total Cost\"]\n",
        "\n",
        "    # generate the summary table\n",
        "    total_quan = df[\"Total Quantity\"].sum()\n",
        "    total_cost = df[\"Total Cost\"].sum()\n",
        "    mkt_val = df[\"Current_Val\"].sum()\n",
        "    gain = df[\"Gain/Loss\"].sum()\n",
        "    summary = [total_quan, total_cost, mkt_val, gain]\n",
        "    summary_tab = pd.DataFrame(np.array(summary).reshape(1, 4), columns = [\"Total Shares\", \"Total Cost\", \"Total Market Value\", \"Total Gain/Loss\"])\n",
        "\n",
        "    return (df, summary_tab)"
      ],
      "execution_count": 1,
      "outputs": [
        {
          "output_type": "stream",
          "text": [
            "Got stderr: Sep 27, 2020 3:22:38 PM org.apache.pdfbox.pdmodel.font.PDType1Font <init>\n",
            "WARNING: Using fallback font LiberationSans for base font Symbol\n",
            "Sep 27, 2020 3:22:38 PM org.apache.pdfbox.pdmodel.font.PDType1Font <init>\n",
            "WARNING: Using fallback font LiberationSans for base font ZapfDingbats\n",
            "\n"
          ],
          "name": "stderr"
        }
      ]
    },
    {
      "cell_type": "code",
      "metadata": {
        "id": "lC_BC56699TG"
      },
      "source": [
        "# repeat the function after the given interval\n",
        "from datetime import datetime\n",
        "import time\n",
        "from IPython.display import clear_output\n",
        "from pytz import timezone\n",
        "\n",
        "bd = timezone(\"Asia/Dhaka\")\n",
        "\n",
        "def periodic_position(interval):\n",
        "    while True:\n",
        "        current_pos = dse_current(instruments)[0]\n",
        "        summary_tab = dse_current(instruments)[1]\n",
        "        clear_output(wait=True)\n",
        "        print(\"As of:\")\n",
        "        print(datetime.now(bd).strftime(\"%H:%M:%S.%f - %b %d %Y\"))\n",
        "        print(\"---\")\n",
        "        print(current_pos)\n",
        "        print(\"---\")\n",
        "        #print(\"Current Total Gain/Loss is: {:2f}\".format(gain))\n",
        "        print(summary_tab)\n",
        "        time.sleep(interval)"
      ],
      "execution_count": 2,
      "outputs": []
    },
    {
      "cell_type": "code",
      "metadata": {
        "id": "XmNJW8zi-DBS",
        "outputId": "6e30bd87-dae0-4202-b839-46a3533dd068",
        "colab": {
          "base_uri": "https://localhost:8080/",
          "height": 359
        }
      },
      "source": [
        "# now keep running the loop\n",
        "periodic_position(30)"
      ],
      "execution_count": null,
      "outputs": [
        {
          "output_type": "stream",
          "text": [
            "As of:\n",
            "21:23:52.956165 - Sep 27 2020\n",
            "---\n",
            "   TRADING.CODE  Total Quantity  Average Cost  Total Cost    LTP   HIGH    LOW  CLOSEP    YCP  TRADE  VALUE   VOLUME  Current_Val   Gain/Loss\n",
            "0      BANKASIA          800405         18.60 14889729.66  18.20  18.20  17.50   17.90  17.50    106   2.94   166349  14327249.50  -562480.16\n",
            "1      CITYBANK           98424         22.11  2176313.03  24.80  24.90  24.00   24.50  24.40    778  63.86  2609440   2411388.00   235074.97\n",
            "2           DBH           25000         94.29  2357227.50  93.30  93.60  92.60   93.00  92.70   1309  98.63  1061674   2325000.00   -32227.50\n",
            "3           EBL          191080         36.82  7034935.88  36.00  36.70  36.00   36.10  36.60     47   1.21    33424   6897988.00  -136947.88\n",
            "4    JAMUNABANK         3017266         17.98 54247333.93  17.50  17.70  17.40   17.60  17.50    198  14.86   846757  53103881.60 -1143452.33\n",
            "5    MERCANBANK         2542642         12.94 32909199.86  12.50  12.60  12.30   12.50  12.30    286  25.70  2067220  31783025.00 -1126174.86\n",
            "6       NCCBANK         4413769         13.96 61627468.32  13.50  13.70  13.40   13.50  13.50    149   6.33   469372  59585881.50 -2041586.82\n",
            "7    ONEBANKLTD          844000         11.33  9564786.00  10.70  10.90  10.60   10.70  10.70    207  10.10   937386   9030800.00  -533986.00\n",
            "8    PUBALIBANK          177093         24.01  4251469.99  24.10  24.10  23.70   24.00  24.00     35   1.27    52841   4250232.00    -1237.99\n",
            "9    SOUTHEASTB          200000         13.70  2740655.10  12.80  13.10  12.70   12.80  12.80    277   8.52   664088   2560000.00  -180655.10\n",
            "10   SQURPHARMA           23000        215.16  4948720.50 206.20 207.80 205.20  206.00 206.10   1265  85.98   417463   4738000.00  -210720.50\n",
            "---\n",
            "   Total Shares   Total Cost  Total Market Value  Total Gain/Loss\n",
            "0   12332679.00 196747839.77        191013445.60      -5734394.17\n"
          ],
          "name": "stdout"
        }
      ]
    }
  ]
}